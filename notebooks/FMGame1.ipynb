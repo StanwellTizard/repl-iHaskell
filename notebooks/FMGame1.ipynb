{
 "cells": [
  {
   "cell_type": "markdown",
   "id": "06bb0078",
   "metadata": {},
   "source": [
    "**The French Military Game**\n",
    "\n",
    "The French Military Game is a moderately small game, bigger than Noughts-and-Crosses but smaller than Draughts. It is small enough that a complete analysis of it is possible. The person will play one side and the computer the other. Initially the computer plays badly, but it will learn from its mistakes. This is possible since there are not too many possibilities, so it can record everything about every game it has ever played. It can also save these results, so that when it returns to a game it \"remembers\" what it learned when run previously. It represents the simplest -artifical intelligence- by having and improving this record.\n",
    "\n",
    "This version uses the console for input, output and display. "
   ]
  },
  {
   "cell_type": "code",
   "execution_count": 1,
   "id": "82defb87",
   "metadata": {},
   "outputs": [
    {
     "ename": "ModuleNotFoundError",
     "evalue": "No module named '_tkinter'",
     "output_type": "error",
     "traceback": [
      "\u001b[0;31m---------------------------------------------------------------------------\u001b[0m",
      "\u001b[0;31mModuleNotFoundError\u001b[0m                       Traceback (most recent call last)",
      "Input \u001b[0;32mIn [1]\u001b[0m, in \u001b[0;36m<cell line: 1>\u001b[0;34m()\u001b[0m\n\u001b[0;32m----> 1\u001b[0m \u001b[38;5;28;01mfrom\u001b[39;00m \u001b[38;5;21;01mFMGameIB\u001b[39;00m \u001b[38;5;28;01mimport\u001b[39;00m MoveRules,Display,Police,Fox,FMG,MemoryManager\n",
      "File \u001b[0;32m~/repl-ihaskell-2/notebooks/FMGameIB.py:5\u001b[0m, in \u001b[0;36m<module>\u001b[0;34m\u001b[0m\n\u001b[1;32m      1\u001b[0m \u001b[38;5;66;03m# author Joseph Bergin\u001b[39;00m\n\u001b[1;32m      2\u001b[0m \n\u001b[1;32m      3\u001b[0m \u001b[38;5;66;03m#!/usr/bin/env python\u001b[39;00m\n\u001b[1;32m      4\u001b[0m \u001b[38;5;66;03m# package: fmg\u001b[39;00m\n\u001b[0;32m----> 5\u001b[0m \u001b[38;5;28;01mfrom\u001b[39;00m \u001b[38;5;21;01mPoliceMoveDialog\u001b[39;00m \u001b[38;5;28;01mimport\u001b[39;00m \u001b[38;5;241m*\u001b[39m\n\u001b[1;32m      7\u001b[0m \u001b[38;5;124;03m''' The French Military Game\u001b[39;00m\n\u001b[1;32m      8\u001b[0m \u001b[38;5;124;03m  * @author jbergin\u001b[39;00m\n\u001b[1;32m      9\u001b[0m \u001b[38;5;124;03m  Copyright 2023, Joseph Bergin \u001b[39;00m\n\u001b[0;32m   (...)\u001b[0m\n\u001b[1;32m     14\u001b[0m \u001b[38;5;124;03m  array-like structure.\u001b[39;00m\n\u001b[1;32m     15\u001b[0m \u001b[38;5;124;03m '''\u001b[39;00m\n\u001b[1;32m     18\u001b[0m \u001b[38;5;28;01mclass\u001b[39;00m \u001b[38;5;21;01mPolice\u001b[39;00m():        \n",
      "File \u001b[0;32m~/repl-ihaskell-2/notebooks/PoliceMoveDialog.py:4\u001b[0m, in \u001b[0;36m<module>\u001b[0;34m\u001b[0m\n\u001b[1;32m      1\u001b[0m \u001b[38;5;66;03m# author Joseph Bergin\u001b[39;00m\n\u001b[1;32m      2\u001b[0m \n\u001b[1;32m      3\u001b[0m \u001b[38;5;66;03m#from tkinter import *\u001b[39;00m\n\u001b[0;32m----> 4\u001b[0m \u001b[38;5;28;01mfrom\u001b[39;00m \u001b[38;5;21;01mtkinter\u001b[39;00m \u001b[38;5;28;01mimport\u001b[39;00m simpledialog, Label, Entry, Tk\n\u001b[1;32m      5\u001b[0m \u001b[38;5;124;03m''' The French Military Game Police Dialoog\u001b[39;00m\n\u001b[1;32m      6\u001b[0m \u001b[38;5;124;03m  * @author jbergin\u001b[39;00m\n\u001b[1;32m      7\u001b[0m \u001b[38;5;124;03m  Copyright 2023, Joseph Bergin \u001b[39;00m\n\u001b[0;32m   (...)\u001b[0m\n\u001b[1;32m     13\u001b[0m \u001b[38;5;124;03m  structure\u001b[39;00m\n\u001b[1;32m     14\u001b[0m \u001b[38;5;124;03m '''\u001b[39;00m\n\u001b[1;32m     16\u001b[0m \u001b[38;5;28;01mclass\u001b[39;00m \u001b[38;5;21;01mPoliceMove\u001b[39;00m(simpledialog\u001b[38;5;241m.\u001b[39mDialog):\n",
      "File \u001b[0;32m/nix/store/zdba9frlxj2ba8ca095win3nphsiiqhb-python3-3.10.8/lib/python3.10/tkinter/__init__.py:37\u001b[0m, in \u001b[0;36m<module>\u001b[0;34m\u001b[0m\n\u001b[1;32m     34\u001b[0m \u001b[38;5;28;01mimport\u001b[39;00m \u001b[38;5;21;01msys\u001b[39;00m\n\u001b[1;32m     35\u001b[0m \u001b[38;5;28;01mimport\u001b[39;00m \u001b[38;5;21;01mtypes\u001b[39;00m\n\u001b[0;32m---> 37\u001b[0m \u001b[38;5;28;01mimport\u001b[39;00m \u001b[38;5;21;01m_tkinter\u001b[39;00m \u001b[38;5;66;03m# If this fails your Python may not be configured for Tk\u001b[39;00m\n\u001b[1;32m     38\u001b[0m TclError \u001b[38;5;241m=\u001b[39m _tkinter\u001b[38;5;241m.\u001b[39mTclError\n\u001b[1;32m     39\u001b[0m \u001b[38;5;28;01mfrom\u001b[39;00m \u001b[38;5;21;01mtkinter\u001b[39;00m\u001b[38;5;21;01m.\u001b[39;00m\u001b[38;5;21;01mconstants\u001b[39;00m \u001b[38;5;28;01mimport\u001b[39;00m \u001b[38;5;241m*\u001b[39m\n",
      "\u001b[0;31mModuleNotFoundError\u001b[0m: No module named '_tkinter'"
     ]
    }
   ],
   "source": [
    "from FMGameIB import MoveRules,Display,Police,Fox,FMG,MemoryManager"
   ]
  },
  {
   "cell_type": "code",
   "execution_count": null,
   "id": "40111395",
   "metadata": {},
   "outputs": [],
   "source": [
    "filename = \"src/fmg.memory\""
   ]
  },
  {
   "cell_type": "code",
   "execution_count": null,
   "id": "e04c9e8c",
   "metadata": {},
   "outputs": [],
   "source": [
    "game = FMG(5, True, filename)"
   ]
  },
  {
   "cell_type": "code",
   "execution_count": null,
   "id": "10091a3b",
   "metadata": {},
   "outputs": [],
   "source": [
    "game.play()"
   ]
  },
  {
   "cell_type": "code",
   "execution_count": null,
   "id": "0f7c725e",
   "metadata": {},
   "outputs": [],
   "source": [
    "print (game._police._ALLMOVES)"
   ]
  },
  {
   "cell_type": "code",
   "execution_count": null,
   "id": "2676cf62",
   "metadata": {},
   "outputs": [],
   "source": []
  }
 ],
 "metadata": {
  "kernelspec": {
   "display_name": "Python 3",
   "language": "python",
   "name": "python3"
  },
  "language_info": {
   "codemirror_mode": {
    "name": "ipython",
    "version": 3
   },
   "file_extension": ".py",
   "mimetype": "text/x-python",
   "name": "python",
   "nbconvert_exporter": "python",
   "pygments_lexer": "ipython3",
   "version": "3.10.8"
  }
 },
 "nbformat": 4,
 "nbformat_minor": 5
}
