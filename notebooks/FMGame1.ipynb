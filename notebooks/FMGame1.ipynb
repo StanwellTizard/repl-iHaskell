{
 "cells": [
  {
   "cell_type": "markdown",
   "id": "06bb0078",
   "metadata": {},
   "source": [
    "**The French Military Game**\n",
    "\n",
    "The French Military Game is a moderately small game, bigger than Noughts-and-Crosses but smaller than Draughts. It is small enough that a complete analysis of it is possible. The person will play one side and the computer the other. Initially the computer plays badly, but it will learn from its mistakes. This is possible since there are not too many possibilities, so it can record everything about every game it has ever played. It can also save these results, so that when it returns to a game it \"remembers\" what it learned when run previously. It represents the simplest -artifical intelligence- by having and improving this record.\n",
    "\n",
    "This version uses the console for input, output and display. "
   ]
  },
  {
   "cell_type": "code",
   "execution_count": 1,
   "id": "82defb87",
   "metadata": {},
   "outputs": [],
   "source": [
    "from FMGameIB import MoveRules,Display,Police,Fox,FMG,MemoryManager"
   ]
  },
  {
   "cell_type": "code",
   "execution_count": 2,
   "id": "40111395",
   "metadata": {},
   "outputs": [],
   "source": [
    "filename = \"src/fmg.memory\""
   ]
  },
  {
   "cell_type": "code",
   "execution_count": 3,
   "id": "e04c9e8c",
   "metadata": {},
   "outputs": [
    {
     "name": "stdout",
     "output_type": "stream",
     "text": [
      "[7, 11, 19, 35, 67, 131, 259, 515, 1027, 13, 21, 37, 69, 133, 261, 517, 1029, 25, 41, 73, 137, 265, 521, 1033, 49, 81, 145, 273, 529, 1041, 97, 161, 289, 545, 1057, 193, 321, 577, 1089, 385, 641, 1153, 769, 1281, 1537, 14, 22, 38, 70, 134, 262, 518, 1030, 26, 42, 74, 138, 266, 522, 1034, 50, 82, 146, 274, 530, 1042, 98, 162, 290, 546, 1058, 194, 322, 578, 1090, 386, 642, 1154, 770, 1282, 1538, 28, 44, 76, 140, 268, 524, 1036, 52, 84, 148, 276, 532, 1044, 100, 164, 292, 548, 1060, 196, 324, 580, 1092, 388, 644, 1156, 772, 1284, 1540, 56, 88, 152, 280, 536, 1048, 104, 168, 296, 552, 1064, 200, 328, 584, 1096, 392, 648, 1160, 776, 1288, 1544, 112, 176, 304, 560, 1072, 208, 336, 592, 1104, 400, 656, 1168, 784, 1296, 1552, 224, 352, 608, 1120, 416, 672, 1184, 800, 1312, 1568, 448, 704, 1216, 832, 1344, 1600, 896, 1408, 1664, 1792]\n"
     ]
    }
   ],
   "source": [
    "game = FMG(5, True, filename)"
   ]
  },
  {
   "cell_type": "code",
   "execution_count": 4,
   "id": "10091a3b",
   "metadata": {},
   "outputs": [
    {
     "name": "stdout",
     "output_type": "stream",
     "text": [
      "Playing\n",
      "     1--4--7\n",
      "    /|\\ | /|\\\n",
      "   / | \\|/ | \\\n",
      "  0--2--F--8--10\n",
      "   \\ | /|\\ | /\n",
      "    \\|/ | \\|/\n",
      "     3--6--9\n",
      "\n",
      "Police position:  [0, 1, 3]\n",
      "Fox at 5\n",
      "Your move: from to  ( 0 0 to resign)\n",
      "You moved from 0 to 0\n",
      "Fox wins = resign\n",
      "Play again? - Y or N[N]\n",
      "N\n"
     ]
    }
   ],
   "source": [
    "game.play()"
   ]
  },
  {
   "cell_type": "code",
   "execution_count": 5,
   "id": "0f7c725e",
   "metadata": {},
   "outputs": [
    {
     "name": "stdout",
     "output_type": "stream",
     "text": [
      "[7, 11, 19, 35, 67, 131, 259, 515, 1027, 13, 21, 37, 69, 133, 261, 517, 1029, 25, 41, 73, 137, 265, 521, 1033, 49, 81, 145, 273, 529, 1041, 97, 161, 289, 545, 1057, 193, 321, 577, 1089, 385, 641, 1153, 769, 1281, 1537, 14, 22, 38, 70, 134, 262, 518, 1030, 26, 42, 74, 138, 266, 522, 1034, 50, 82, 146, 274, 530, 1042, 98, 162, 290, 546, 1058, 194, 322, 578, 1090, 386, 642, 1154, 770, 1282, 1538, 28, 44, 76, 140, 268, 524, 1036, 52, 84, 148, 276, 532, 1044, 100, 164, 292, 548, 1060, 196, 324, 580, 1092, 388, 644, 1156, 772, 1284, 1540, 56, 88, 152, 280, 536, 1048, 104, 168, 296, 552, 1064, 200, 328, 584, 1096, 392, 648, 1160, 776, 1288, 1544, 112, 176, 304, 560, 1072, 208, 336, 592, 1104, 400, 656, 1168, 784, 1296, 1552, 224, 352, 608, 1120, 416, 672, 1184, 800, 1312, 1568, 448, 704, 1216, 832, 1344, 1600, 896, 1408, 1664, 1792]\n"
     ]
    }
   ],
   "source": [
    "print (game._police._ALLMOVES)"
   ]
  },
  {
   "cell_type": "code",
   "execution_count": null,
   "id": "2676cf62",
   "metadata": {},
   "outputs": [],
   "source": []
  }
 ],
 "metadata": {
  "kernelspec": {
   "display_name": "Python 3",
   "language": "python",
   "name": "python3"
  },
  "language_info": {
   "codemirror_mode": {
    "name": "ipython",
    "version": 3
   },
   "file_extension": ".py",
   "mimetype": "text/x-python",
   "name": "python",
   "nbconvert_exporter": "python",
   "pygments_lexer": "ipython3",
   "version": "3.10.8"
  }
 },
 "nbformat": 4,
 "nbformat_minor": 5
}
