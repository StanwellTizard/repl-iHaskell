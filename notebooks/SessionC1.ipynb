{
 "cells": [
  {
   "cell_type": "markdown",
   "id": "0a655445",
   "metadata": {},
   "source": [
    "These are early days in our work to produce a classroom ready package for software supported educational mathematics. We have been inspired by the \"questions procedure\" introduced by Prof Borovik at the CTM22 Panel. This is discussed in a pdf downloadable from \n",
    "https://bit.ly/CherryBowl\n",
    "\n",
    "![](https://piazza.com/class_profile/get_resource/liq6q8ewv241g5/lmhssb7yx3233h\n",
    "). One page is rendered above."
   ]
  },
  {
   "cell_type": "markdown",
   "id": "db67c8eb",
   "metadata": {},
   "source": [
    "When confronted with the need to build a mathematical model of a word problem, or to model the information aspects of a human-computer system, the student/analyst will ask themselves:\n",
    "- what is the data, what questions can we ask about it? what can be learned from the data\n",
    "- what is the structure\n",
    "- what is the teacher's question (or what are the stakeholder's goals) \n",
    "\n",
    "Bartosz Milewski has remarked that the basic concepts of concetual mathematics or category theory can be explained in relatively simple terms to anybody with some experience of programming. This module is designed to give just that experience to Key Stage 2-3 students and teachers. He writes, \"like programming category theory is about structure. Mathematicians discover structure in mathematical theories, programmers discover structure in computer programs. Well structured programs are easier to understand and maintain, and are less likely to to contain bugs.\" Category theory provides the language to talk about structure, and learning it will make you a better programmer, teacher or mathematician.\n",
    "\n",
    "\n",
    "https://bartoszmilewski.com/2014/10/28/category-theory-for-programmers-the-preface/ "
   ]
  },
  {
   "cell_type": "markdown",
   "id": "82cc1501",
   "metadata": {},
   "source": [
    "Analysis of the Cherry Bowl problem will determine that Bob and Alice have different rates of picking.\n",
    "* In one minute Bob picks 1/8 of a bowl\n",
    "* In one minute Alice picks 1/24 of a bowl"
   ]
  },
  {
   "cell_type": "code",
   "execution_count": 1,
   "id": "1d195fb5",
   "metadata": {},
   "outputs": [],
   "source": [
    "type RatePerMinute = Rational"
   ]
  },
  {
   "cell_type": "markdown",
   "id": "663ca51e",
   "metadata": {},
   "source": [
    "*Fractional* is the class of types that can represent (exactly or at least in a decent approximation) any rational number. That is it is just the class of number types that have a division operation; since it's a subclass of Num it follows from this that the types must contain the rational numbers.\n",
    "\n",
    "*Floating* is the class of number types that are closed under limits in the Cauchy sense, i.e. complete spaces. This is necessary to do any sort of calculus. The methods of the Floating class are functions that are mathematically defined as limits, namely infinite sums (which are the limits of the sequence of partial sums of taylor series).\n",
    "\n",
    "Since you can define the real numbers as limits of sequences of rational numbers and because again Floating is a subclass of Fractional, any Floating type is able to represent (again, at least to a decent approximation) any real number. See Joe Bergin, Number and the Nature of Mathematics books for an discussion of the construction of the number systems in both classical and categorical terms. (https://bit.ly/JoeBerginMT288)"
   ]
  },
  {
   "cell_type": "markdown",
   "id": "fbf0c96a",
   "metadata": {},
   "source": [
    "Willem Van Onsem who charaterised Haskell's standard type classes in this way suggests that a good way to visualise the difference is through topology: Floating types are connected spaces, i.e. they form a continuum. What this means for floating point numbers is: every value is understood as a whole interval of real numbers (because floating-point always has some uncertainty). When you lay these intervals side by side, you tile the entire real numbers (at least to ±10^300) without gaps.\n",
    "\n",
    "By contrast, some Fractional types are not connected. In particular, Rational can exactly represent all its (rational-number) values, so each value is just an “infinitely small point”. You can never cover the entire real line with such points, and you can not compute functions like sin or log since the result of these functions is usually a non-rational real number.\n",
    "\n",
    "It's worth pondering a bit what this “decent approximation” means. The Haskell standard doesn't define this. This story about every floating point number representing a whole interval of real numbers captures it quite well IMO. More generally, we might say: Num/Fractional/Floating are the classes of types that represent equivalance classes of integer/rational/real numbers. In fact, these classes need not even be “small” intervals: in particular the finite types like Word32 or the standard Int can be understood in a modular arithmetic sense, manifesting in results like (2^70 :: Int) == 0, i.e. the equivalence classes are then numbers spaces by a multiple of 264.\n",
    "\n",
    "In cases like Integer or Rational, the equivalence classes actually contain only a single element, i.e. the numbers are represented exactly. For real numbers, this is actually also possible, but much more tricky, it's called exact real arithmetic. "
   ]
  },
  {
   "cell_type": "code",
   "execution_count": 2,
   "id": "6133eb23",
   "metadata": {},
   "outputs": [
    {
     "data": {
      "text/plain": [
       "True"
      ]
     },
     "metadata": {},
     "output_type": "display_data"
    }
   ],
   "source": [
    "(2^70::Int) == 0"
   ]
  },
  {
   "cell_type": "code",
   "execution_count": 5,
   "id": "21e6a31b",
   "metadata": {},
   "outputs": [],
   "source": [
    "workingTogether :: RatePerMinute -> RatePerMinute -> Rational\n",
    "workingTogether a b = 1 / (a + b)"
   ]
  },
  {
   "cell_type": "code",
   "execution_count": 7,
   "id": "3576bd9a",
   "metadata": {},
   "outputs": [
    {
     "data": {
      "text/plain": [
       "6 % 1"
      ]
     },
     "metadata": {},
     "output_type": "display_data"
    }
   ],
   "source": [
    "workingTogether (1/24) (1/8)"
   ]
  },
  {
   "cell_type": "code",
   "execution_count": null,
   "id": "9cfc2577",
   "metadata": {},
   "outputs": [],
   "source": []
  }
 ],
 "metadata": {
  "kernelspec": {
   "display_name": "Haskell",
   "language": "haskell",
   "name": "haskell"
  },
  "language_info": {
   "codemirror_mode": "ihaskell",
   "file_extension": ".hs",
   "mimetype": "text/x-haskell",
   "name": "haskell",
   "pygments_lexer": "Haskell",
   "version": "9.0.2"
  }
 },
 "nbformat": 4,
 "nbformat_minor": 5
}
