{
 "cells": [
  {
   "cell_type": "markdown",
   "id": "0a655445",
   "metadata": {},
   "source": [
    "These are early days in our work to produce a classroom ready package for software supported educational mathematics. We have been inspired by the \"questions procedure\" introduced by Prof Borovik at the CTM22 Panel. This is discussed in a pdf downloadable from \n",
    "https://bit.ly/CherryBowl\n",
    "\n",
    "![](https://piazza.com/class_profile/get_resource/liq6q8ewv241g5/lmhssb7yx3233h\n",
    "). One page is rendered above."
   ]
  },
  {
   "cell_type": "markdown",
   "id": "db67c8eb",
   "metadata": {},
   "source": [
    "When confronted with the need to build a mathematical model of a word problem, or to model the information aspects of a human-computer system, the student/analyst will ask themselves:\n",
    "- what is the data, what questions can we ask about it? what can be learned from the data\n",
    "- what is its structure\n",
    "- what is the teacher's question (or what are the stakeholder's goals) \n",
    "\n",
    "We will use conceptual mathematics to represent and reason about the structure in a domain. Bartosz Milewski has remarked that the basic concepts of conceptual mathematics or category theory can be explained in relatively simple terms to anybody with some experience of programming. This module is designed to give just that experience to Key Stage 2-3 students and teachers. He writes, \"like programming category theory is about structure. Mathematicians discover structure in mathematical theories, programmers discover structure in computer programs. Well structured programs are easier to understand and maintain, and are less likely to to contain bugs.\" Category theory provides the language to talk about structure, and learning it will make you a better programmer, teacher or mathematician.\n",
    "\n",
    "\n",
    "https://bartoszmilewski.com/2014/10/28/category-theory-for-programmers-the-preface/ "
   ]
  },
  {
   "cell_type": "markdown",
   "id": "7d7b7fc2",
   "metadata": {},
   "source": [
    "![](images/standardhaskellclasses.png)\n",
    "\n",
    "*To be edited. Remove Monad and Functor, and add Rational to Num, Fractional and Enum type class*\n",
    "\n",
    "In Lesson 2 of the Gattegno.ipynb we encountered several technical terms which are part of a network of conceptual dependencies called Haskell's Standard Class Library. In this diagram an oval box represent a class of types, and an arrow pointing from one oval to another represents derived behaviour. We will refer to this diagram as we model the Cherry Bowl problem. "
   ]
  },
  {
   "cell_type": "markdown",
   "id": "82cc1501",
   "metadata": {},
   "source": [
    "Analysis of the problem determines that Bob and Alice have different rates of picking.\n",
    "* In one minute Bob picks 1/8 of a bowl\n",
    "* In one minute Alice picks 1/24 of a bowl\n",
    "\n",
    "We can choose to model this rate as a Haskell type Rational.\n",
    "\n",
    "Note that Rational is not a base type in Haskell. Rather it is an alias (also known as a *type synonym*) for Ratio Integer where Ratio is a polymorphic type implementing rational numbers for any Integral type of numerators and denominators). Rational is a type in the Fractional standard Haskell type class that can represent (exactly or at least in a decent approximation) any rational number. To use it we will need to import the base library Data.Ratio. Note that although succ and pred functions derived from the Enum type class operate on Rational instances they default to ± 1. This behaviour is distinct from rational numbers in mathematics since they aren't sequential. Suppose that this was not the case, and $a/b$ was the successor to $u/v$. Then we could construct another rational $x/y$ that whose value was within the interval $u/v$ < $x/y$ < $a/b$. Can you do this?\n"
   ]
  },
  {
   "cell_type": "code",
   "execution_count": null,
   "id": "b54f6c1b",
   "metadata": {},
   "outputs": [],
   "source": [
    "import Data.Ratio\n",
    "a = 1 /2\n",
    ":t a "
   ]
  },
  {
   "cell_type": "markdown",
   "id": "220658b9",
   "metadata": {},
   "source": [
    "The Rational type is a pair of two Integer’s, so up to the computer running out of memory it represents all rational numbers. Experiment with different values of a to explore the functions that it inherits from its membership of the Enum type class."
   ]
  },
  {
   "cell_type": "code",
   "execution_count": 19,
   "id": "e120c29d",
   "metadata": {},
   "outputs": [
    {
     "data": {
      "text/plain": [
       "1.5"
      ]
     },
     "metadata": {},
     "output_type": "display_data"
    },
    {
     "data": {
      "text/plain": [
       "-0.5"
      ]
     },
     "metadata": {},
     "output_type": "display_data"
    },
    {
     "data": {
      "text/html": [
       "<style>/* Styles used for the Hoogle display in the pager */\n",
       ".hoogle-doc {\n",
       "display: block;\n",
       "padding-bottom: 1.3em;\n",
       "padding-left: 0.4em;\n",
       "}\n",
       ".hoogle-code {\n",
       "display: block;\n",
       "font-family: monospace;\n",
       "white-space: pre;\n",
       "}\n",
       ".hoogle-text {\n",
       "display: block;\n",
       "}\n",
       ".hoogle-name {\n",
       "color: green;\n",
       "font-weight: bold;\n",
       "}\n",
       ".hoogle-head {\n",
       "font-weight: bold;\n",
       "}\n",
       ".hoogle-sub {\n",
       "display: block;\n",
       "margin-left: 0.4em;\n",
       "}\n",
       ".hoogle-package {\n",
       "font-weight: bold;\n",
       "font-style: italic;\n",
       "}\n",
       ".hoogle-module {\n",
       "font-weight: bold;\n",
       "}\n",
       ".hoogle-class {\n",
       "font-weight: bold;\n",
       "}\n",
       ".get-type {\n",
       "color: green;\n",
       "font-weight: bold;\n",
       "font-family: monospace;\n",
       "display: block;\n",
       "white-space: pre-wrap;\n",
       "}\n",
       ".show-type {\n",
       "color: green;\n",
       "font-weight: bold;\n",
       "font-family: monospace;\n",
       "margin-left: 1em;\n",
       "}\n",
       ".mono {\n",
       "font-family: monospace;\n",
       "display: block;\n",
       "}\n",
       ".err-msg {\n",
       "color: red;\n",
       "font-style: italic;\n",
       "font-family: monospace;\n",
       "white-space: pre;\n",
       "display: block;\n",
       "}\n",
       "#unshowable {\n",
       "color: red;\n",
       "font-weight: bold;\n",
       "}\n",
       ".err-msg.in.collapse {\n",
       "padding-top: 0.7em;\n",
       "}\n",
       ".highlight-code {\n",
       "white-space: pre;\n",
       "font-family: monospace;\n",
       "}\n",
       ".suggestion-warning { \n",
       "font-weight: bold;\n",
       "color: rgb(200, 130, 0);\n",
       "}\n",
       ".suggestion-error { \n",
       "font-weight: bold;\n",
       "color: red;\n",
       "}\n",
       ".suggestion-name {\n",
       "font-weight: bold;\n",
       "}\n",
       "</style><span class='get-type'>succ a :: forall {a}. (Enum a, Fractional a) => a</span>"
      ],
      "text/plain": [
       "succ a :: forall {a}. (Enum a, Fractional a) => a"
      ]
     },
     "metadata": {},
     "output_type": "display_data"
    },
    {
     "data": {
      "text/html": [
       "<style>/* Styles used for the Hoogle display in the pager */\n",
       ".hoogle-doc {\n",
       "display: block;\n",
       "padding-bottom: 1.3em;\n",
       "padding-left: 0.4em;\n",
       "}\n",
       ".hoogle-code {\n",
       "display: block;\n",
       "font-family: monospace;\n",
       "white-space: pre;\n",
       "}\n",
       ".hoogle-text {\n",
       "display: block;\n",
       "}\n",
       ".hoogle-name {\n",
       "color: green;\n",
       "font-weight: bold;\n",
       "}\n",
       ".hoogle-head {\n",
       "font-weight: bold;\n",
       "}\n",
       ".hoogle-sub {\n",
       "display: block;\n",
       "margin-left: 0.4em;\n",
       "}\n",
       ".hoogle-package {\n",
       "font-weight: bold;\n",
       "font-style: italic;\n",
       "}\n",
       ".hoogle-module {\n",
       "font-weight: bold;\n",
       "}\n",
       ".hoogle-class {\n",
       "font-weight: bold;\n",
       "}\n",
       ".get-type {\n",
       "color: green;\n",
       "font-weight: bold;\n",
       "font-family: monospace;\n",
       "display: block;\n",
       "white-space: pre-wrap;\n",
       "}\n",
       ".show-type {\n",
       "color: green;\n",
       "font-weight: bold;\n",
       "font-family: monospace;\n",
       "margin-left: 1em;\n",
       "}\n",
       ".mono {\n",
       "font-family: monospace;\n",
       "display: block;\n",
       "}\n",
       ".err-msg {\n",
       "color: red;\n",
       "font-style: italic;\n",
       "font-family: monospace;\n",
       "white-space: pre;\n",
       "display: block;\n",
       "}\n",
       "#unshowable {\n",
       "color: red;\n",
       "font-weight: bold;\n",
       "}\n",
       ".err-msg.in.collapse {\n",
       "padding-top: 0.7em;\n",
       "}\n",
       ".highlight-code {\n",
       "white-space: pre;\n",
       "font-family: monospace;\n",
       "}\n",
       ".suggestion-warning { \n",
       "font-weight: bold;\n",
       "color: rgb(200, 130, 0);\n",
       "}\n",
       ".suggestion-error { \n",
       "font-weight: bold;\n",
       "color: red;\n",
       "}\n",
       ".suggestion-name {\n",
       "font-weight: bold;\n",
       "}\n",
       "</style><span class='get-type'>pred :: forall {a}. Enum a => a -> a</span>"
      ],
      "text/plain": [
       "pred :: forall {a}. Enum a => a -> a"
      ]
     },
     "metadata": {},
     "output_type": "display_data"
    }
   ],
   "source": [
    "succ a\n",
    "pred a\n",
    ":t succ a\n",
    ":t pred"
   ]
  },
  {
   "cell_type": "markdown",
   "id": "e61bd8a0",
   "metadata": {},
   "source": [
    "Rational is a type in the Fractional standard Haskell type class that can represent (exactly or at least in a decent approximation) any rational number. The Fractional type class is weird, because it has a division operator and the instance ‘Integral a => Fractional (Ratio a)’ does weird things. Consider the type Word which is unsigned and finite."
   ]
  },
  {
   "cell_type": "code",
   "execution_count": 16,
   "id": "7d0a52e7",
   "metadata": {},
   "outputs": [
    {
     "data": {
      "text/plain": [
       "1 % 2"
      ]
     },
     "metadata": {},
     "output_type": "display_data"
    },
    {
     "data": {
      "text/plain": [
       "18446744073709551615 % 2"
      ]
     },
     "metadata": {},
     "output_type": "display_data"
    }
   ],
   "source": [
    "1 / 2 :: Ratio Word\n",
    "(-1)/2 :: Ratio Word"
   ]
  },
  {
   "cell_type": "markdown",
   "id": "663ca51e",
   "metadata": {},
   "source": [
    "Here we define a *type synonym* RatePerMinute for the fraction of the bowl that is filled by a Alice or Bob in a minute. Rational is a type in the *Fractional* standard Haskell type class that can represent (exactly or at least in a decent approximation) any rational number. That is, it is just the class of number types that have a division operation. Since it's a subclass of type Num it follows from this that *Fractional* types must contain the rational numbers. See Joe Bergin, Number and the Nature of Mathematics books for an discussion of the construction of the number systems in both classical and categorical terms. (https://bit.ly/JoeBerginMT288)"
   ]
  },
  {
   "cell_type": "code",
   "execution_count": 10,
   "id": "1d195fb5",
   "metadata": {},
   "outputs": [],
   "source": [
    "type RatePerMinute = Rational"
   ]
  },
  {
   "cell_type": "markdown",
   "id": "fbf0c96a",
   "metadata": {},
   "source": [
    "Willem Van Onsem suggested that a good way to visualise Haskell's standard type classes is through topology: Floating types are connected spaces, i.e. they form a continuum. What this means for floating point numbers is: every value is understood as a whole interval of real numbers (because floating-point always has some uncertainty). When you lay these intervals side by side, you tile the entire real numbers (at least to ±10^300) without gaps.\n",
    "\n",
    "By contrast, some Fractional types are not connected. In particular, Rational can exactly represent all its (rational-number) values, so each value is just an “infinitely small point”. You can never cover the entire real line with such points, and you can not compute functions like sin or log since the result of these functions is usually a non-rational real number.\n",
    "\n",
    "It's worth pondering a bit what this “decent approximation” means. The Haskell standard doesn't define this. This story about every floating point number representing a whole interval of real numbers captures it quite well. More generally, we might say: Num/Fractional/Floating are the classes of types that represent equivalance classes of integer/rational/real or complex numbers. In fact, these classes need not even be “small” intervals: in particular the finite types like Word or the standard Int can be understood in a modular arithmetic sense, manifesting in results like (2^64 :: Int) == 0, i.e. the equivalence classes are then the numbers modulo 2^64."
   ]
  },
  {
   "cell_type": "code",
   "execution_count": 21,
   "id": "6133eb23",
   "metadata": {},
   "outputs": [
    {
     "data": {
      "text/plain": [
       "True"
      ]
     },
     "metadata": {},
     "output_type": "display_data"
    }
   ],
   "source": [
    "(2^64::Int) == 0"
   ]
  },
  {
   "cell_type": "markdown",
   "id": "8fb9016c",
   "metadata": {},
   "source": [
    "Below are type signatures for functions that will determine how long it will take for Alice and Bob to fill the bowl working together. \n",
    "\n",
    "Can you supply the missing equations to implement workingTogetherPerMinute and workingTogetherTime?"
   ]
  },
  {
   "cell_type": "code",
   "execution_count": 34,
   "id": "21e6a31b",
   "metadata": {
    "scrolled": true
   },
   "outputs": [
    {
     "ename": "",
     "evalue": "",
     "output_type": "error",
     "traceback": [
      "<interactive>:1:1: error:\n    The type signature for ‘workingTogetherPerMinute’ lacks an accompanying binding\n      (The type signature must be given where ‘workingTogetherPerMinute’ is declared)"
     ]
    }
   ],
   "source": [
    "-- This function calculates the proportion of the bowl that is filled each minute when Alice and Bob work together\n",
    "workingTogetherPerMinute :: RatePerMinute -> RatePerMinute -> RatePerMinute\n",
    "-- your equation here"
   ]
  },
  {
   "cell_type": "code",
   "execution_count": null,
   "id": "5261652d",
   "metadata": {
    "scrolled": true
   },
   "outputs": [
    {
     "ename": "",
     "evalue": "",
     "output_type": "error",
     "traceback": [
      "<interactive>:1:1: error:\n    The type signature for ‘workingTogetherTime’ lacks an accompanying binding\n      (The type signature must be given where ‘workingTogetherTime’ is declared)"
     ]
    }
   ],
   "source": [
    "-- This function uses that information to calculate how long it will take them to fill the bowl together\n",
    "workingTogetherTime :: RatePerMinute -> Rational\n",
    "-- your equation here"
   ]
  },
  {
   "cell_type": "code",
   "execution_count": 32,
   "id": "3576bd9a",
   "metadata": {},
   "outputs": [],
   "source": [
    "-- The $ indicates functional composition f(g(x) in mathematics is f $ g x in Haskell)\n",
    "workingTogether :: Rational -> Rational -> Rational\n",
    "workingTogether a b = workingTogetherTime $ workingTogetherPerMinute (1/a) (1/b)"
   ]
  },
  {
   "cell_type": "code",
   "execution_count": 33,
   "id": "2d61c923",
   "metadata": {},
   "outputs": [
    {
     "data": {
      "text/plain": [
       "6 % 1"
      ]
     },
     "metadata": {},
     "output_type": "display_data"
    }
   ],
   "source": [
    "-- test your solution with\n",
    "workingTogether 8 24"
   ]
  }
 ],
 "metadata": {
  "kernelspec": {
   "display_name": "Haskell",
   "language": "haskell",
   "name": "haskell"
  },
  "language_info": {
   "codemirror_mode": "ihaskell",
   "file_extension": ".hs",
   "mimetype": "text/x-haskell",
   "name": "haskell",
   "pygments_lexer": "Haskell",
   "version": "9.0.2"
  }
 },
 "nbformat": 4,
 "nbformat_minor": 5
}
