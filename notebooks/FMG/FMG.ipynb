{
 "cells": [
  {
   "cell_type": "markdown",
   "id": "06bb0078",
   "metadata": {},
   "source": [
    "**The French Military Game**\n",
    "\n",
    "The French Military Game is a moderately small game, bigger than Noughts-and-Crosses but smaller than Draughts. It is small enough that a complete analysis of it is possible. The person will play one side and the computer the other. Initially the computer plays badly, but it will learn from its mistakes. This is possible since there are not too many possibilities, so it can record everything about every game it has ever played. It can also save these results, so that when it returns to a game it \"remembers\" what it learned when run previously. It represents the simplest -artifical intelligence- by having and improving this record.\n",
    "\n",
    "This version uses the console for input, output and display. "
   ]
  },
  {
   "cell_type": "code",
   "execution_count": 2,
   "id": "82defb87",
   "metadata": {},
   "outputs": [],
   "source": [
    "from FMG2 import MoveRules,Display,Police,Fox,FMG,MemoryManager"
   ]
  },
  {
   "cell_type": "code",
   "execution_count": 3,
   "id": "40111395",
   "metadata": {},
   "outputs": [],
   "source": [
    "filename = \"src/fmg.memory\""
   ]
  },
  {
   "cell_type": "code",
   "execution_count": 4,
   "id": "e04c9e8c",
   "metadata": {},
   "outputs": [],
   "source": [
    "game = FMG(True, filename)"
   ]
  },
  {
   "cell_type": "code",
   "execution_count": null,
   "id": "10091a3b",
   "metadata": {},
   "outputs": [
    {
     "name": "stdout",
     "output_type": "stream",
     "text": [
      "Playing\n",
      "     1--4--7\n",
      "    /|\\ | /|\\\n",
      "   / | \\|/ | \\\n",
      "  0--2--F--8--10\n",
      "   \\ | /|\\ | /\n",
      "    \\|/ | \\|/\n",
      "     3--6--9\n",
      "\n",
      "Police position:  [0, 1, 3]\n",
      "Fox at 5\n",
      "Your move: from to  ( 0 0 to resign)\n"
     ]
    }
   ],
   "source": [
    "game.play()"
   ]
  },
  {
   "cell_type": "code",
   "execution_count": null,
   "id": "7dbbfc22",
   "metadata": {},
   "outputs": [],
   "source": []
  }
 ],
 "metadata": {
  "kernelspec": {
   "display_name": "Python 3 (ipykernel)",
   "language": "python",
   "name": "python3"
  },
  "language_info": {
   "codemirror_mode": {
    "name": "ipython",
    "version": 3
   },
   "file_extension": ".py",
   "mimetype": "text/x-python",
   "name": "python",
   "nbconvert_exporter": "python",
   "pygments_lexer": "ipython3",
   "version": "3.9.9"
  }
 },
 "nbformat": 4,
 "nbformat_minor": 5
}
